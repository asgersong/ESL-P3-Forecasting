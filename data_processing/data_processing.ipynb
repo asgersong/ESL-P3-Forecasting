{
 "cells": [
  {
   "cell_type": "code",
   "execution_count": 1,
   "metadata": {},
   "outputs": [],
   "source": [
    "import pandas as pd\n",
    "\n",
    "ENERGY_DATASET_PATH = \"../dataset/raw/energy_dataset.csv\"\n",
    "WEATHER_DATASET_PATH = \"../dataset/raw/weather_features.csv\"\n",
    "\n",
    "energy_dataset = pd.read_csv(ENERGY_DATASET_PATH)\n",
    "weather_dataset = pd.read_csv(WEATHER_DATASET_PATH)"
   ]
  },
  {
   "cell_type": "markdown",
   "metadata": {},
   "source": [
    "## Combination and Drop of Columns"
   ]
  },
  {
   "cell_type": "code",
   "execution_count": 28,
   "metadata": {},
   "outputs": [
    {
     "name": "stdout",
     "output_type": "stream",
     "text": [
      "                temp    wind_speed     clouds_all\n",
      "count  178396.000000  178396.00000  178396.000000\n",
      "mean      289.618605       2.47056      25.073292\n",
      "std         8.026199       2.09591      30.774129\n",
      "min       262.240000       0.00000       0.000000\n",
      "25%       283.670000       1.00000       0.000000\n",
      "50%       289.150000       2.00000      20.000000\n",
      "75%       295.150000       4.00000      40.000000\n",
      "max       315.600000     133.00000     100.000000\n"
     ]
    }
   ],
   "source": [
    "weather = weather_dataset.drop(['temp_min', 'temp_max', 'pressure', 'humidity', 'wind_deg', 'rain_1h', 'rain_3h', 'snow_3h', 'weather_id'], axis=1)\n",
    "print(weather.describe())   \n"
   ]
  },
  {
   "cell_type": "code",
   "execution_count": 3,
   "metadata": {},
   "outputs": [
    {
     "name": "stdout",
     "output_type": "stream",
     "text": [
      "                        time  fossil fuels combined  windpower  \\\n",
      "0  2015-01-01 00:00:00+01:00                10156.0     6378.0   \n",
      "1  2015-01-01 01:00:00+01:00                10437.0     5890.0   \n",
      "2  2015-01-01 02:00:00+01:00                 9918.0     5461.0   \n",
      "3  2015-01-01 03:00:00+01:00                 8859.0     5238.0   \n",
      "4  2015-01-01 04:00:00+01:00                 8313.0     4935.0   \n",
      "\n",
      "   windpower forecast  solarpower  solarpower forecast  other green energy  \\\n",
      "0              6436.0        49.0                 17.0              3709.0   \n",
      "1              5856.0        50.0                 16.0              3425.0   \n",
      "2              5454.0        50.0                  8.0              3104.0   \n",
      "3              5151.0        50.0                  2.0              2475.0   \n",
      "4              4861.0        42.0                  9.0              2407.0   \n",
      "\n",
      "   total load forecast  total load actual  price day ahead  price actual  \n",
      "0              26118.0            25385.0            50.10         65.41  \n",
      "1              24934.0            24382.0            48.10         64.92  \n",
      "2              23515.0            22734.0            47.33         64.48  \n",
      "3              22642.0            21286.0            42.27         59.32  \n",
      "4              21785.0            20264.0            38.41         56.04  \n"
     ]
    }
   ],
   "source": [
    "# Load the dataset\n",
    "df = energy_dataset\n",
    "\n",
    "# Combine fossil fuel-based generation\n",
    "fossil_fuels = [\n",
    "    \"generation fossil brown coal/lignite\", \"generation fossil coal-derived gas\",\n",
    "    \"generation fossil gas\", \"generation fossil hard coal\", \"generation fossil oil\",\n",
    "    \"generation fossil oil shale\", \"generation fossil peat\"\n",
    "]\n",
    "df[\"fossil fuels combined\"] = df[fossil_fuels].sum(axis=1)\n",
    "\n",
    "# Rename and aggregate renewable sources\n",
    "df[\"windpower\"] = df[[\"generation wind offshore\", \"generation wind onshore\"]].sum(axis=1)\n",
    "df[\"windpower forecast\"] = df[[\"forecast wind offshore eday ahead\", \"forecast wind onshore day ahead\"]].sum(axis=1)\n",
    "df[\"solarpower\"] = df[\"generation solar\"]\n",
    "df[\"solarpower forecast\"] = df[\"forecast solar day ahead\"]\n",
    "\n",
    "# Aggregate other green energy sources (excluding wind and solar)\n",
    "green_energy_sources = [\n",
    "    \"generation biomass\", \"generation geothermal\", \"generation hydro pumped storage aggregated\",\n",
    "    \"generation hydro run-of-river and poundage\", \"generation hydro water reservoir\",\n",
    "    \"generation marine\", \"generation other\", \"generation other renewable\", \"generation waste\"\n",
    "]\n",
    "df[\"other green energy\"] = df[green_energy_sources].sum(axis=1)\n",
    "\n",
    "# Select relevant columns\n",
    "columns_to_keep = [\n",
    "    \"time\", \"fossil fuels combined\", \"windpower\", \"windpower forecast\", \"solarpower\", \"solarpower forecast\",\n",
    "    \"other green energy\", \"total load forecast\", \"total load actual\", \"price day ahead\", \"price actual\"\n",
    "]\n",
    "df = df[columns_to_keep]\n",
    "\n",
    "# Save the processed dataset\n",
    "df.to_csv(\"../dataset/processed/simplified_dataset.csv\", index=False)\n",
    "\n",
    "# Display the first few rows\n",
    "print(df.head())\n",
    "\n"
   ]
  },
  {
   "cell_type": "markdown",
   "metadata": {},
   "source": [
    "## Clean data\n",
    "There are columns with missing values, so we should interpolate them."
   ]
  },
  {
   "cell_type": "code",
   "execution_count": 4,
   "metadata": {},
   "outputs": [
    {
     "name": "stdout",
     "output_type": "stream",
     "text": [
      "time                       0\n",
      "fossil fuels combined     18\n",
      "windpower                 21\n",
      "windpower forecast         0\n",
      "solarpower                21\n",
      "solarpower forecast      539\n",
      "other green energy        21\n",
      "total load forecast        0\n",
      "total load actual         36\n",
      "price day ahead            0\n",
      "price actual               0\n",
      "dtype: int64\n"
     ]
    },
    {
     "name": "stderr",
     "output_type": "stream",
     "text": [
      "C:\\Users\\Andreas\\AppData\\Local\\Temp\\ipykernel_10168\\951567718.py:12: FutureWarning: DataFrame.interpolate with object dtype is deprecated and will raise in a future version. Call obj.infer_objects(copy=False) before interpolating instead.\n",
      "  df = df.interpolate()\n"
     ]
    }
   ],
   "source": [
    "import numpy as np\n",
    "\n",
    "# set zero values to NaN\n",
    "df = pd.read_csv(\"simplified_dataset.csv\")\n",
    "df = df.replace(0.0, np.nan)\n",
    "\n",
    "# count the number of missing values\n",
    "print(df.isnull().sum())\n",
    "\n",
    "\n",
    "# interpolate using pandas\n",
    "df = df.interpolate()\n",
    "\n",
    "df.to_csv(\"../dataset/processed/interpolated_dataset.csv\", index=False)\n"
   ]
  },
  {
   "cell_type": "markdown",
   "metadata": {},
   "source": [
    "## Dataset split\n",
    "We will split the dataset into training, validation, and test datasets using a 80/10/10 ratio."
   ]
  },
  {
   "cell_type": "code",
   "execution_count": 9,
   "metadata": {},
   "outputs": [],
   "source": [
    "import os\n",
    "\n",
    "df = pd.read_csv(\"../dataset/processed/interpolated_dataset.csv\")\n",
    "\n",
    "# Calculate lengths for train, validation, and test sets\n",
    "train_len = int(len(df) * 0.8)\n",
    "val_len = int(len(df) * 0.1)\n",
    "\n",
    "# Split the dataset\n",
    "train, val, test = df[:train_len], df[train_len:train_len + val_len], df[train_len + val_len:]\n",
    "\n",
    "# Separate features and target\n",
    "train_x, train_y = train.drop([\"price actual\"], axis=1), train[\"price actual\"]\n",
    "val_x, val_y = val.drop([\"price actual\"], axis=1), val[\"price actual\"]\n",
    "test_x, test_y = test.drop([\"price actual\"], axis=1), test[\"price actual\"]\n",
    "\n",
    "# Create directories if they do not exist\n",
    "os.makedirs(\"../dataset/processed/train\", exist_ok=True)\n",
    "os.makedirs(\"../dataset/processed/val\", exist_ok=True)\n",
    "os.makedirs(\"../dataset/processed/test\", exist_ok=True)\n",
    "\n",
    "# Save the datasets\n",
    "train_x.to_csv(\"../dataset/processed/train/train_x.csv\", index=False)\n",
    "train_y.to_csv(\"../dataset/processed/train/train_y.csv\", index=False)\n",
    "val_x.to_csv(\"../dataset/processed/val/val_x.csv\", index=False)\n",
    "val_y.to_csv(\"../dataset/processed/val/val_y.csv\", index=False)\n",
    "test_x.to_csv(\"../dataset/processed/test/test_x.csv\", index=False)\n",
    "test_y.to_csv(\"../dataset/processed/test/test_y.csv\", index=False)\n"
   ]
  }
 ],
 "metadata": {
  "kernelspec": {
   "display_name": "esl",
   "language": "python",
   "name": "python3"
  },
  "language_info": {
   "codemirror_mode": {
    "name": "ipython",
    "version": 3
   },
   "file_extension": ".py",
   "mimetype": "text/x-python",
   "name": "python",
   "nbconvert_exporter": "python",
   "pygments_lexer": "ipython3",
   "version": "3.12.9"
  }
 },
 "nbformat": 4,
 "nbformat_minor": 2
}
