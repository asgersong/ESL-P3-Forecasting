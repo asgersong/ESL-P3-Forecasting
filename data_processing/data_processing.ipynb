{
 "cells": [
  {
   "cell_type": "code",
   "execution_count": 18,
   "metadata": {},
   "outputs": [],
   "source": [
    "import pandas as pd\n",
    "\n",
    "ENERGY_DATASET_PATH = \"../dataset/raw/energy_dataset.csv\"\n",
    "WEATHER_DATASET_PATH = \"../dataset/raw/weather_features.csv\"\n",
    "\n",
    "energy_dataset = pd.read_csv(ENERGY_DATASET_PATH)\n",
    "weather_dataset = pd.read_csv(WEATHER_DATASET_PATH)"
   ]
  },
  {
   "cell_type": "markdown",
   "metadata": {},
   "source": [
    "## Combination and Drop of Columns"
   ]
  },
  {
   "cell_type": "code",
   "execution_count": 19,
   "metadata": {},
   "outputs": [
    {
     "name": "stdout",
     "output_type": "stream",
     "text": [
      "                temp    wind_speed     clouds_all\n",
      "count  178396.000000  178396.00000  178396.000000\n",
      "mean      289.618605       2.47056      25.073292\n",
      "std         8.026199       2.09591      30.774129\n",
      "min       262.240000       0.00000       0.000000\n",
      "25%       283.670000       1.00000       0.000000\n",
      "50%       289.150000       2.00000      20.000000\n",
      "75%       295.150000       4.00000      40.000000\n",
      "max       315.600000     133.00000     100.000000\n"
     ]
    }
   ],
   "source": [
    "weather = weather_dataset.drop(['temp_min', 'temp_max', 'pressure', 'humidity', 'wind_deg', 'rain_1h', 'rain_3h', 'snow_3h', 'weather_id'], axis=1)\n",
    "print(weather.describe())   "
   ]
  },
  {
   "cell_type": "code",
   "execution_count": 20,
   "metadata": {},
   "outputs": [
    {
     "name": "stdout",
     "output_type": "stream",
     "text": [
      "                        time  fossil_fuels  windpower  solarpower  \\\n",
      "0  2015-01-01 00:00:00+01:00       10156.0     6378.0        49.0   \n",
      "1  2015-01-01 01:00:00+01:00       10437.0     5890.0        50.0   \n",
      "2  2015-01-01 02:00:00+01:00        9918.0     5461.0        50.0   \n",
      "3  2015-01-01 03:00:00+01:00        8859.0     5238.0        50.0   \n",
      "4  2015-01-01 04:00:00+01:00        8313.0     4935.0        42.0   \n",
      "\n",
      "   other_green_energy  total_load_actual  price_day_ahead  price_actual  \n",
      "0              3709.0            25385.0            50.10         65.41  \n",
      "1              3425.0            24382.0            48.10         64.92  \n",
      "2              3104.0            22734.0            47.33         64.48  \n",
      "3              2475.0            21286.0            42.27         59.32  \n",
      "4              2407.0            20264.0            38.41         56.04  \n"
     ]
    },
    {
     "name": "stderr",
     "output_type": "stream",
     "text": [
      "C:\\Users\\Andreas\\AppData\\Local\\Temp\\ipykernel_10716\\1575167087.py:39: SettingWithCopyWarning: \n",
      "A value is trying to be set on a copy of a slice from a DataFrame\n",
      "\n",
      "See the caveats in the documentation: https://pandas.pydata.org/pandas-docs/stable/user_guide/indexing.html#returning-a-view-versus-a-copy\n",
      "  df.rename(columns={\"total load actual\": \"total_load_actual\", \"price day ahead\": \"price_day_ahead\", \"price actual\": \"price_actual\"},\n"
     ]
    }
   ],
   "source": [
    "FOSSIL_FUELS_COLUMN_NAME = \"fossil_fuels\"\n",
    "WINDPOWER_COLUMN_NAME = \"windpower\"\n",
    "SOLARPOWER_COLUMN_NAME = \"solarpower\"\n",
    "OTHER_GREEN_ENERGY_COLUMN_NAME = \"other_green_energy\"\n",
    "\n",
    "# Load the dataset\n",
    "df = energy_dataset\n",
    "\n",
    "# Combine fossil fuel-based generation\n",
    "fossil_fuels = [\n",
    "    \"generation fossil brown coal/lignite\", \"generation fossil coal-derived gas\",\n",
    "    \"generation fossil gas\", \"generation fossil hard coal\", \"generation fossil oil\",\n",
    "    \"generation fossil oil shale\", \"generation fossil peat\"\n",
    "]\n",
    "df[FOSSIL_FUELS_COLUMN_NAME] = df[fossil_fuels].sum(axis=1)\n",
    "\n",
    "# Rename and aggregate renewable sources\n",
    "df[WINDPOWER_COLUMN_NAME] = df[[\"generation wind offshore\", \"generation wind onshore\"]].sum(axis=1)\n",
    "# df[\"windpower forecast\"] = df[[\"forecast wind offshore eday ahead\", \"forecast wind onshore day ahead\"]].sum(axis=1)\n",
    "df[SOLARPOWER_COLUMN_NAME] = df[\"generation solar\"]\n",
    "# df[\"solarpower forecast\"] = df[\"forecast solar day ahead\"]\n",
    "\n",
    "# Aggregate other green energy sources (excluding wind and solar)\n",
    "green_energy_sources = [\n",
    "    \"generation biomass\", \"generation geothermal\", \"generation hydro pumped storage aggregated\",\n",
    "    \"generation hydro run-of-river and poundage\", \"generation hydro water reservoir\",\n",
    "    \"generation marine\", \"generation other\", \"generation other renewable\", \"generation waste\"\n",
    "]\n",
    "df[OTHER_GREEN_ENERGY_COLUMN_NAME] = df[green_energy_sources].sum(axis=1)\n",
    "\n",
    "# Select relevant columns\n",
    "columns_to_keep = [\n",
    "    \"time\", FOSSIL_FUELS_COLUMN_NAME, WINDPOWER_COLUMN_NAME, SOLARPOWER_COLUMN_NAME,\n",
    "    OTHER_GREEN_ENERGY_COLUMN_NAME, \"total load actual\", \"price day ahead\", \"price actual\"\n",
    "]\n",
    "df = df[columns_to_keep]\n",
    "\n",
    "# rename space-containing columns\n",
    "df.rename(columns={\"total load actual\": \"total_load_actual\", \"price day ahead\": \"price_day_ahead\", \"price actual\": \"price_actual\"}, \n",
    "          inplace=True)\n",
    "\n",
    "print(df.head())"
   ]
  },
  {
   "cell_type": "code",
   "execution_count": 28,
   "metadata": {},
   "outputs": [
    {
     "name": "stderr",
     "output_type": "stream",
     "text": [
      "C:\\Users\\Andreas\\AppData\\Local\\Temp\\ipykernel_10716\\315938985.py:2: SettingWithCopyWarning: \n",
      "A value is trying to be set on a copy of a slice from a DataFrame.\n",
      "Try using .loc[row_indexer,col_indexer] = value instead\n",
      "\n",
      "See the caveats in the documentation: https://pandas.pydata.org/pandas-docs/stable/user_guide/indexing.html#returning-a-view-versus-a-copy\n",
      "  df[\"time\"] = pd.to_datetime(df[\"time\"], format=\"%Y-%m-%d %H:%M:%S%z\", utc=True)\n",
      "C:\\Users\\Andreas\\AppData\\Local\\Temp\\ipykernel_10716\\315938985.py:3: SettingWithCopyWarning: \n",
      "A value is trying to be set on a copy of a slice from a DataFrame.\n",
      "Try using .loc[row_indexer,col_indexer] = value instead\n",
      "\n",
      "See the caveats in the documentation: https://pandas.pydata.org/pandas-docs/stable/user_guide/indexing.html#returning-a-view-versus-a-copy\n",
      "  df[\"time\"] = df[\"time\"].dt.tz_convert(None).astype('datetime64[ns]')\n",
      "C:\\Users\\Andreas\\AppData\\Local\\Temp\\ipykernel_10716\\315938985.py:6: SettingWithCopyWarning: \n",
      "A value is trying to be set on a copy of a slice from a DataFrame.\n",
      "Try using .loc[row_indexer,col_indexer] = value instead\n",
      "\n",
      "See the caveats in the documentation: https://pandas.pydata.org/pandas-docs/stable/user_guide/indexing.html#returning-a-view-versus-a-copy\n",
      "  df[\"day_of_week\"] = df[\"time\"].dt.dayofweek\n",
      "C:\\Users\\Andreas\\AppData\\Local\\Temp\\ipykernel_10716\\315938985.py:7: SettingWithCopyWarning: \n",
      "A value is trying to be set on a copy of a slice from a DataFrame.\n",
      "Try using .loc[row_indexer,col_indexer] = value instead\n",
      "\n",
      "See the caveats in the documentation: https://pandas.pydata.org/pandas-docs/stable/user_guide/indexing.html#returning-a-view-versus-a-copy\n",
      "  df[\"hour_of_day\"] = df[\"time\"].dt.hour\n"
     ]
    }
   ],
   "source": [
    "# format time column\n",
    "df[\"time\"] = pd.to_datetime(df[\"time\"], format=\"%Y-%m-%d %H:%M:%S%z\", utc=True)\n",
    "df[\"time\"] = df[\"time\"].dt.tz_convert(None).astype('datetime64[ns]')\n",
    "\n",
    "# make day-of-week and hour-of-day columns\n",
    "df[\"day_of_week\"] = df[\"time\"].dt.dayofweek\n",
    "df[\"hour_of_day\"] = df[\"time\"].dt.hour"
   ]
  },
  {
   "cell_type": "code",
   "execution_count": 29,
   "metadata": {},
   "outputs": [
    {
     "name": "stdout",
     "output_type": "stream",
     "text": [
      "                 time  fossil_fuels  windpower  solarpower  \\\n",
      "0 2014-12-31 23:00:00       10156.0     6378.0        49.0   \n",
      "1 2015-01-01 00:00:00       10437.0     5890.0        50.0   \n",
      "2 2015-01-01 01:00:00        9918.0     5461.0        50.0   \n",
      "3 2015-01-01 02:00:00        8859.0     5238.0        50.0   \n",
      "4 2015-01-01 03:00:00        8313.0     4935.0        42.0   \n",
      "\n",
      "   other_green_energy  total_load_actual  price_day_ahead  price_actual  \\\n",
      "0              3709.0            25385.0            50.10         65.41   \n",
      "1              3425.0            24382.0            48.10         64.92   \n",
      "2              3104.0            22734.0            47.33         64.48   \n",
      "3              2475.0            21286.0            42.27         59.32   \n",
      "4              2407.0            20264.0            38.41         56.04   \n",
      "\n",
      "   day_of_week  hour_of_day  \n",
      "0            2           23  \n",
      "1            3            0  \n",
      "2            3            1  \n",
      "3            3            2  \n",
      "4            3            3  \n"
     ]
    }
   ],
   "source": [
    "# Save the processed dataset\n",
    "df.to_csv(\"../dataset/processed/simplified_dataset.csv\", index=False)\n",
    "\n",
    "# Display the first few rows\n",
    "print(df.head())\n",
    "\n"
   ]
  },
  {
   "cell_type": "markdown",
   "metadata": {},
   "source": [
    "## Clean data\n",
    "There are columns with missing values, so we should interpolate them."
   ]
  },
  {
   "cell_type": "code",
   "execution_count": 31,
   "metadata": {},
   "outputs": [
    {
     "name": "stdout",
     "output_type": "stream",
     "text": [
      "time                     0\n",
      "fossil_fuels            18\n",
      "windpower               21\n",
      "solarpower              21\n",
      "other_green_energy      21\n",
      "total_load_actual       36\n",
      "price_day_ahead          0\n",
      "price_actual             0\n",
      "day_of_week           5015\n",
      "hour_of_day           1461\n",
      "dtype: int64\n"
     ]
    },
    {
     "name": "stderr",
     "output_type": "stream",
     "text": [
      "C:\\Users\\Andreas\\AppData\\Local\\Temp\\ipykernel_10716\\1527132032.py:12: FutureWarning: DataFrame.interpolate with object dtype is deprecated and will raise in a future version. Call obj.infer_objects(copy=False) before interpolating instead.\n",
      "  df = df.interpolate()\n"
     ]
    }
   ],
   "source": [
    "import numpy as np\n",
    "\n",
    "# set zero values to NaN\n",
    "df = pd.read_csv(\"../dataset/processed/simplified_dataset.csv\")\n",
    "df = df.replace(0.0, np.nan)\n",
    "\n",
    "# count the number of missing values\n",
    "print(df.isnull().sum())\n",
    "\n",
    "\n",
    "# interpolate using pandas\n",
    "df = df.interpolate()\n",
    "\n",
    "df.to_csv(\"../dataset/processed/interpolated_dataset.csv\", index=False)\n"
   ]
  },
  {
   "cell_type": "markdown",
   "metadata": {},
   "source": [
    "## Dataset split\n",
    "We will split the dataset into training, validation, and test datasets using a 80/10/10 ratio."
   ]
  },
  {
   "cell_type": "code",
   "execution_count": 32,
   "metadata": {},
   "outputs": [],
   "source": [
    "import os\n",
    "\n",
    "df = pd.read_csv(\"../dataset/processed/interpolated_dataset.csv\")\n",
    "\n",
    "# Calculate lengths for train and test sets\n",
    "train_len = int(len(df) * 0.8)\n",
    "test_len = len(df) - train_len\n",
    "\n",
    "# Split the dataset\n",
    "train, test = df[:train_len], df[train_len:]\n",
    "\n",
    "# Create directories if they do not exist\n",
    "os.makedirs(\"../dataset/processed/train\", exist_ok=True)\n",
    "os.makedirs(\"../dataset/processed/test\", exist_ok=True)\n",
    "\n",
    "# Save the datasets\n",
    "train.to_csv(\"../dataset/processed/train/train.csv\", index=False)\n",
    "test.to_csv(\"../dataset/processed/test/test.csv\", index=False)"
   ]
  }
 ],
 "metadata": {
  "kernelspec": {
   "display_name": "esl",
   "language": "python",
   "name": "python3"
  },
  "language_info": {
   "codemirror_mode": {
    "name": "ipython",
    "version": 3
   },
   "file_extension": ".py",
   "mimetype": "text/x-python",
   "name": "python",
   "nbconvert_exporter": "python",
   "pygments_lexer": "ipython3",
   "version": "3.12.9"
  }
 },
 "nbformat": 4,
 "nbformat_minor": 2
}
