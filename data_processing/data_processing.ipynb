{
 "cells": [
  {
   "cell_type": "code",
   "execution_count": 25,
   "metadata": {},
   "outputs": [],
   "source": [
    "import pandas as pd\n",
    "\n",
    "ENERGY_DATASET_PATH = \"../dataset/energy_dataset.csv\"\n",
    "WEATHER_DATASET_PATH = \"../dataset/weather_features.csv\"\n",
    "\n",
    "energy_dataset = pd.read_csv(ENERGY_DATASET_PATH)\n",
    "weather_dataset = pd.read_csv(WEATHER_DATASET_PATH)"
   ]
  },
  {
   "cell_type": "code",
   "execution_count": null,
   "metadata": {},
   "outputs": [],
   "source": []
  },
  {
   "cell_type": "code",
   "execution_count": null,
   "metadata": {},
   "outputs": [],
   "source": []
  },
  {
   "cell_type": "code",
   "execution_count": 26,
   "metadata": {},
   "outputs": [
    {
     "name": "stdout",
     "output_type": "stream",
     "text": [
      "       generation biomass  generation fossil brown coal/lignite  \\\n",
      "count        35045.000000                          35046.000000   \n",
      "mean           383.513540                            448.059208   \n",
      "std             85.353943                            354.568590   \n",
      "min              0.000000                              0.000000   \n",
      "25%            333.000000                              0.000000   \n",
      "50%            367.000000                            509.000000   \n",
      "75%            433.000000                            757.000000   \n",
      "max            592.000000                            999.000000   \n",
      "\n",
      "       generation fossil coal-derived gas  generation fossil gas  \\\n",
      "count                             35046.0           35046.000000   \n",
      "mean                                  0.0            5622.737488   \n",
      "std                                   0.0            2201.830478   \n",
      "min                                   0.0               0.000000   \n",
      "25%                                   0.0            4126.000000   \n",
      "50%                                   0.0            4969.000000   \n",
      "75%                                   0.0            6429.000000   \n",
      "max                                   0.0           20034.000000   \n",
      "\n",
      "       generation fossil hard coal  generation fossil oil  \\\n",
      "count                 35046.000000           35045.000000   \n",
      "mean                   4256.065742             298.319789   \n",
      "std                    1961.601013              52.520673   \n",
      "min                       0.000000               0.000000   \n",
      "25%                    2527.000000             263.000000   \n",
      "50%                    4474.000000             300.000000   \n",
      "75%                    5838.750000             330.000000   \n",
      "max                    8359.000000             449.000000   \n",
      "\n",
      "       generation fossil oil shale  generation fossil peat  \\\n",
      "count                      35046.0                 35046.0   \n",
      "mean                           0.0                     0.0   \n",
      "std                            0.0                     0.0   \n",
      "min                            0.0                     0.0   \n",
      "25%                            0.0                     0.0   \n",
      "50%                            0.0                     0.0   \n",
      "75%                            0.0                     0.0   \n",
      "max                            0.0                     0.0   \n",
      "\n",
      "       generation geothermal  generation hydro pumped storage aggregated  ...  \\\n",
      "count                35046.0                                         0.0  ...   \n",
      "mean                     0.0                                         NaN  ...   \n",
      "std                      0.0                                         NaN  ...   \n",
      "min                      0.0                                         NaN  ...   \n",
      "25%                      0.0                                         NaN  ...   \n",
      "50%                      0.0                                         NaN  ...   \n",
      "75%                      0.0                                         NaN  ...   \n",
      "max                      0.0                                         NaN  ...   \n",
      "\n",
      "       generation waste  generation wind offshore  generation wind onshore  \\\n",
      "count      35045.000000                   35046.0             35046.000000   \n",
      "mean         269.452133                       0.0              5464.479769   \n",
      "std           50.195536                       0.0              3213.691587   \n",
      "min            0.000000                       0.0                 0.000000   \n",
      "25%          240.000000                       0.0              2933.000000   \n",
      "50%          279.000000                       0.0              4849.000000   \n",
      "75%          310.000000                       0.0              7398.000000   \n",
      "max          357.000000                       0.0             17436.000000   \n",
      "\n",
      "       forecast solar day ahead  forecast wind offshore eday ahead  \\\n",
      "count              35064.000000                                0.0   \n",
      "mean                1439.066735                                NaN   \n",
      "std                 1677.703355                                NaN   \n",
      "min                    0.000000                                NaN   \n",
      "25%                   69.000000                                NaN   \n",
      "50%                  576.000000                                NaN   \n",
      "75%                 2636.000000                                NaN   \n",
      "max                 5836.000000                                NaN   \n",
      "\n",
      "       forecast wind onshore day ahead  total load forecast  \\\n",
      "count                     35064.000000         35064.000000   \n",
      "mean                       5471.216689         28712.129962   \n",
      "std                        3176.312853          4594.100854   \n",
      "min                         237.000000         18105.000000   \n",
      "25%                        2979.000000         24793.750000   \n",
      "50%                        4855.000000         28906.000000   \n",
      "75%                        7353.000000         32263.250000   \n",
      "max                       17430.000000         41390.000000   \n",
      "\n",
      "       total load actual  price day ahead  price actual  \n",
      "count       35028.000000     35064.000000  35064.000000  \n",
      "mean        28696.939905        49.874341     57.884023  \n",
      "std          4574.987950        14.618900     14.204083  \n",
      "min         18041.000000         2.060000      9.330000  \n",
      "25%         24807.750000        41.490000     49.347500  \n",
      "50%         28901.000000        50.520000     58.020000  \n",
      "75%         32192.000000        60.530000     68.010000  \n",
      "max         41015.000000       101.990000    116.800000  \n",
      "\n",
      "[8 rows x 28 columns]\n"
     ]
    }
   ],
   "source": [
    "# show statistics of the energy dataset\n",
    "print(energy_dataset.describe())\n"
   ]
  },
  {
   "cell_type": "code",
   "execution_count": 27,
   "metadata": {},
   "outputs": [
    {
     "name": "stdout",
     "output_type": "stream",
     "text": [
      "                temp       temp_min       temp_max      pressure  \\\n",
      "count  178396.000000  178396.000000  178396.000000  1.783960e+05   \n",
      "mean      289.618605     288.330442     291.091267  1.069261e+03   \n",
      "std         8.026199       7.955491       8.612454  5.969632e+03   \n",
      "min       262.240000     262.240000     262.240000  0.000000e+00   \n",
      "25%       283.670000     282.483602     284.650000  1.013000e+03   \n",
      "50%       289.150000     288.150000     290.150000  1.018000e+03   \n",
      "75%       295.150000     293.730125     297.150000  1.022000e+03   \n",
      "max       315.600000     315.150000     321.150000  1.008371e+06   \n",
      "\n",
      "            humidity    wind_speed       wind_deg        rain_1h  \\\n",
      "count  178396.000000  178396.00000  178396.000000  178396.000000   \n",
      "mean       68.423457       2.47056     166.591190       0.075492   \n",
      "std        21.902888       2.09591     116.611927       0.398847   \n",
      "min         0.000000       0.00000       0.000000       0.000000   \n",
      "25%        53.000000       1.00000      55.000000       0.000000   \n",
      "50%        72.000000       2.00000     177.000000       0.000000   \n",
      "75%        87.000000       4.00000     270.000000       0.000000   \n",
      "max       100.000000     133.00000     360.000000      12.000000   \n",
      "\n",
      "             rain_3h        snow_3h     clouds_all     weather_id  \n",
      "count  178396.000000  178396.000000  178396.000000  178396.000000  \n",
      "mean        0.000380       0.004763      25.073292     759.831902  \n",
      "std         0.007288       0.222604      30.774129     108.733223  \n",
      "min         0.000000       0.000000       0.000000     200.000000  \n",
      "25%         0.000000       0.000000       0.000000     800.000000  \n",
      "50%         0.000000       0.000000      20.000000     800.000000  \n",
      "75%         0.000000       0.000000      40.000000     801.000000  \n",
      "max         2.315000      21.500000     100.000000     804.000000  \n"
     ]
    }
   ],
   "source": [
    "print(weather_dataset.describe())"
   ]
  },
  {
   "cell_type": "markdown",
   "metadata": {},
   "source": [
    "## Combination and Drop of Columns"
   ]
  },
  {
   "cell_type": "code",
   "execution_count": 28,
   "metadata": {},
   "outputs": [
    {
     "name": "stdout",
     "output_type": "stream",
     "text": [
      "                temp    wind_speed     clouds_all\n",
      "count  178396.000000  178396.00000  178396.000000\n",
      "mean      289.618605       2.47056      25.073292\n",
      "std         8.026199       2.09591      30.774129\n",
      "min       262.240000       0.00000       0.000000\n",
      "25%       283.670000       1.00000       0.000000\n",
      "50%       289.150000       2.00000      20.000000\n",
      "75%       295.150000       4.00000      40.000000\n",
      "max       315.600000     133.00000     100.000000\n"
     ]
    }
   ],
   "source": [
    "weather = weather_dataset.drop(['temp_min', 'temp_max', 'pressure', 'humidity', 'wind_deg', 'rain_1h', 'rain_3h', 'snow_3h', 'weather_id'], axis=1)\n",
    "print(weather.describe())   \n"
   ]
  },
  {
   "cell_type": "code",
   "execution_count": 29,
   "metadata": {},
   "outputs": [
    {
     "name": "stdout",
     "output_type": "stream",
     "text": [
      "                        time  fossil fuels combined  windpower  \\\n",
      "0  2015-01-01 00:00:00+01:00                10156.0     6378.0   \n",
      "1  2015-01-01 01:00:00+01:00                10437.0     5890.0   \n",
      "2  2015-01-01 02:00:00+01:00                 9918.0     5461.0   \n",
      "3  2015-01-01 03:00:00+01:00                 8859.0     5238.0   \n",
      "4  2015-01-01 04:00:00+01:00                 8313.0     4935.0   \n",
      "\n",
      "   windpower forecast  solarpower  solarpower forecast  other green energy  \\\n",
      "0              6436.0        49.0                 17.0              3709.0   \n",
      "1              5856.0        50.0                 16.0              3425.0   \n",
      "2              5454.0        50.0                  8.0              3104.0   \n",
      "3              5151.0        50.0                  2.0              2475.0   \n",
      "4              4861.0        42.0                  9.0              2407.0   \n",
      "\n",
      "   total load forecast  total load actual  price day ahead  price actual  \n",
      "0              26118.0            25385.0            50.10         65.41  \n",
      "1              24934.0            24382.0            48.10         64.92  \n",
      "2              23515.0            22734.0            47.33         64.48  \n",
      "3              22642.0            21286.0            42.27         59.32  \n",
      "4              21785.0            20264.0            38.41         56.04  \n"
     ]
    }
   ],
   "source": [
    "# Load the dataset\n",
    "df = energy_dataset\n",
    "\n",
    "# Combine fossil fuel-based generation\n",
    "fossil_fuels = [\n",
    "    \"generation fossil brown coal/lignite\", \"generation fossil coal-derived gas\",\n",
    "    \"generation fossil gas\", \"generation fossil hard coal\", \"generation fossil oil\",\n",
    "    \"generation fossil oil shale\", \"generation fossil peat\"\n",
    "]\n",
    "df[\"fossil fuels combined\"] = df[fossil_fuels].sum(axis=1)\n",
    "\n",
    "# Rename and aggregate renewable sources\n",
    "df[\"windpower\"] = df[[\"generation wind offshore\", \"generation wind onshore\"]].sum(axis=1)\n",
    "df[\"windpower forecast\"] = df[[\"forecast wind offshore eday ahead\", \"forecast wind onshore day ahead\"]].sum(axis=1)\n",
    "df[\"solarpower\"] = df[\"generation solar\"]\n",
    "df[\"solarpower forecast\"] = df[\"forecast solar day ahead\"]\n",
    "\n",
    "# Aggregate other green energy sources (excluding wind and solar)\n",
    "green_energy_sources = [\n",
    "    \"generation biomass\", \"generation geothermal\", \"generation hydro pumped storage aggregated\",\n",
    "    \"generation hydro run-of-river and poundage\", \"generation hydro water reservoir\",\n",
    "    \"generation marine\", \"generation other\", \"generation other renewable\", \"generation waste\"\n",
    "]\n",
    "df[\"other green energy\"] = df[green_energy_sources].sum(axis=1)\n",
    "\n",
    "# Select relevant columns\n",
    "columns_to_keep = [\n",
    "    \"time\", \"fossil fuels combined\", \"windpower\", \"windpower forecast\", \"solarpower\", \"solarpower forecast\",\n",
    "    \"other green energy\", \"total load forecast\", \"total load actual\", \"price day ahead\", \"price actual\"\n",
    "]\n",
    "df = df[columns_to_keep]\n",
    "\n",
    "# Save the processed dataset\n",
    "df.to_csv(\"simplified_dataset.csv\", index=False)\n",
    "\n",
    "# Display the first few rows\n",
    "print(df.head())\n",
    "\n"
   ]
  },
  {
   "cell_type": "code",
   "execution_count": 30,
   "metadata": {},
   "outputs": [
    {
     "name": "stdout",
     "output_type": "stream",
     "text": [
      "time                       0\n",
      "fossil fuels combined     18\n",
      "windpower                 21\n",
      "windpower forecast         0\n",
      "solarpower                21\n",
      "solarpower forecast      539\n",
      "other green energy        21\n",
      "total load forecast        0\n",
      "total load actual         36\n",
      "price day ahead            0\n",
      "price actual               0\n",
      "dtype: int64\n"
     ]
    },
    {
     "name": "stderr",
     "output_type": "stream",
     "text": [
      "/var/folders/z1/rghddhpx3csdrmp3zc65yc1w0000gn/T/ipykernel_1892/1062022161.py:12: FutureWarning: DataFrame.interpolate with object dtype is deprecated and will raise in a future version. Call obj.infer_objects(copy=False) before interpolating instead.\n",
      "  df = df.interpolate()\n"
     ]
    }
   ],
   "source": [
    "import numpy as np\n",
    "\n",
    "# set zero values to NaN\n",
    "df = pd.read_csv(\"simplified_dataset.csv\")\n",
    "df = df.replace(0.0, np.nan)\n",
    "\n",
    "# count the number of missing values\n",
    "print(df.isnull().sum())\n",
    "\n",
    "\n",
    "# interpolate using pandas\n",
    "df = df.interpolate()\n",
    "\n",
    "df.to_csv(\"interpolated_dataset.csv\", index=False)\n"
   ]
  },
  {
   "cell_type": "markdown",
   "metadata": {},
   "source": [
    "## Clean data\n",
    "There are columns with missing values, so we should interpolate them."
   ]
  },
  {
   "cell_type": "code",
   "execution_count": null,
   "metadata": {},
   "outputs": [],
   "source": []
  }
 ],
 "metadata": {
  "kernelspec": {
   "display_name": "ESL",
   "language": "python",
   "name": "python3"
  },
  "language_info": {
   "codemirror_mode": {
    "name": "ipython",
    "version": 3
   },
   "file_extension": ".py",
   "mimetype": "text/x-python",
   "name": "python",
   "nbconvert_exporter": "python",
   "pygments_lexer": "ipython3",
   "version": "3.12.9"
  }
 },
 "nbformat": 4,
 "nbformat_minor": 2
}
